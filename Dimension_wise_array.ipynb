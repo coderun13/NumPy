{
 "cells": [
  {
   "cell_type": "code",
   "execution_count": 5,
   "id": "24d76de0-b535-4552-9793-0de0ee501e2c",
   "metadata": {},
   "outputs": [
    {
     "name": "stdin",
     "output_type": "stream",
     "text": [
      "Enter a number:  12\n",
      "Enter a number:  13\n",
      "Enter a number:  14\n",
      "Enter a number:  15\n"
     ]
    },
    {
     "name": "stdout",
     "output_type": "stream",
     "text": [
      "The array is:  [12 13 14 15]\n"
     ]
    }
   ],
   "source": [
    "import numpy as np\n",
    "l = []\n",
    "for i in range(1,5):\n",
    "    int_1 = int(input(\"Enter a number: \"))\n",
    "    l.append(int_1)\n",
    "print(\"The array is: \",np.array(l))"
   ]
  },
  {
   "cell_type": "code",
   "execution_count": 8,
   "id": "57bf4cae-f1c8-4e8b-b022-9d111142d3c5",
   "metadata": {},
   "outputs": [
    {
     "name": "stdout",
     "output_type": "stream",
     "text": [
      "[1 2 3 4 5 6 7]\n",
      "<class 'numpy.ndarray'>\n",
      "The dim of array is: 1\n"
     ]
    }
   ],
   "source": [
    "x=[2,3,4,5,6]\n",
    "y=np.array([1,2,3,4,5,6,7])\n",
    "print(y)\n",
    "print(type(y))\n",
    "print(\"The dim of array is:\",y.ndim)"
   ]
  },
  {
   "cell_type": "code",
   "execution_count": 9,
   "id": "88cbcc24-e243-4275-a6e7-b9654f00a1a2",
   "metadata": {},
   "outputs": [
    {
     "name": "stdout",
     "output_type": "stream",
     "text": [
      "[[1 2 3 4 5 6 7]]\n",
      "<class 'numpy.ndarray'>\n",
      "The dim of array is: 2\n"
     ]
    }
   ],
   "source": [
    "arr2=np.array([[1,2,3,4,5,6,7]])\n",
    "print(arr2)\n",
    "print(type(arr2))\n",
    "print(\"The dim of array is:\",arr2.ndim)"
   ]
  },
  {
   "cell_type": "code",
   "execution_count": 17,
   "id": "48755e72-9287-42ca-be86-e6fc9ecdcf7d",
   "metadata": {},
   "outputs": [
    {
     "name": "stdout",
     "output_type": "stream",
     "text": [
      "[[[1 2 3]\n",
      "  [4 5 6]\n",
      "  [7 8 9]]]\n",
      "<class 'numpy.ndarray'>\n",
      "The dim of array is: 3\n"
     ]
    }
   ],
   "source": [
    "arr3=np.array([[[1,2,3],[4,5,6],[7,8,9]]])\n",
    "print(arr3)\n",
    "print(type(arr3))\n",
    "print(\"The dim of array is:\",arr3.ndim)"
   ]
  },
  {
   "cell_type": "code",
   "execution_count": 19,
   "id": "d4ae1497-fde6-42fe-8a0a-bac1e0ca31c1",
   "metadata": {},
   "outputs": [
    {
     "name": "stdout",
     "output_type": "stream",
     "text": [
      "[[[[[[[[[[1 2 3]]]]]]]]]]\n",
      "<class 'numpy.ndarray'>\n",
      "The dim of array is: 10\n"
     ]
    }
   ],
   "source": [
    "arr=np.array([1,2,3],ndmin =10)\n",
    "print(arr)\n",
    "print(type(arr))\n",
    "print(\"The dim of array is:\",arr.ndim)"
   ]
  }
 ],
 "metadata": {
  "kernelspec": {
   "display_name": "Python 3 (ipykernel)",
   "language": "python",
   "name": "python3"
  },
  "language_info": {
   "codemirror_mode": {
    "name": "ipython",
    "version": 3
   },
   "file_extension": ".py",
   "mimetype": "text/x-python",
   "name": "python",
   "nbconvert_exporter": "python",
   "pygments_lexer": "ipython3",
   "version": "3.11.9"
  }
 },
 "nbformat": 4,
 "nbformat_minor": 5
}
