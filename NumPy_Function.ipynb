{
 "cells": [
  {
   "cell_type": "code",
   "execution_count": 13,
   "id": "a49b9cee-1b0f-4df0-b11d-d30bdd693223",
   "metadata": {},
   "outputs": [
    {
     "name": "stdout",
     "output_type": "stream",
     "text": [
      "[0. 0. 0. 0.]\n",
      "\n",
      "[[0. 0. 0. 0.]\n",
      " [0. 0. 0. 0.]\n",
      " [0. 0. 0. 0.]]\n"
     ]
    }
   ],
   "source": [
    "#Zeros\n",
    "import numpy as np\n",
    "ar_zero = np.zeros(4)\n",
    "print(ar_zero)\n",
    "\n",
    "print()\n",
    "\n",
    "ar_zero1 = np.zeros((3,4)) #Dimension\n",
    "print(ar_zero1)"
   ]
  },
  {
   "cell_type": "code",
   "execution_count": 14,
   "id": "16a7035d-5160-48f9-b436-bd208c230e0d",
   "metadata": {},
   "outputs": [
    {
     "name": "stdout",
     "output_type": "stream",
     "text": [
      "[1. 1. 1. 1.]\n",
      "\n",
      "[[1. 1. 1. 1.]\n",
      " [1. 1. 1. 1.]\n",
      " [1. 1. 1. 1.]]\n"
     ]
    }
   ],
   "source": [
    "#Ones\n",
    "ar_one = np.ones(4)\n",
    "print(ar_one)\n",
    "\n",
    "print()\n",
    "\n",
    "ar_one1 = np.ones((3,4)) #Dimension\n",
    "print(ar_one1)"
   ]
  },
  {
   "cell_type": "code",
   "execution_count": 15,
   "id": "55b50861-c787-43cf-a56b-36190a2c5147",
   "metadata": {},
   "outputs": [
    {
     "name": "stdout",
     "output_type": "stream",
     "text": [
      "[1. 1. 1. 1.]\n"
     ]
    }
   ],
   "source": [
    "#empty array\n",
    "ar_em = np.empty(4) #previous data comes in it\n",
    "print(ar_em)"
   ]
  },
  {
   "cell_type": "code",
   "execution_count": 17,
   "id": "7ed0851e-56c0-43ec-a645-95bbdb856685",
   "metadata": {},
   "outputs": [
    {
     "name": "stdout",
     "output_type": "stream",
     "text": [
      "[0 1 2 3]\n"
     ]
    }
   ],
   "source": [
    "#range array\n",
    "arr_rn = np.arange(4)\n",
    "print(arr_rn)"
   ]
  },
  {
   "cell_type": "code",
   "execution_count": 20,
   "id": "28b97458-8009-4b11-8b7c-e287dc597f26",
   "metadata": {},
   "outputs": [
    {
     "name": "stdout",
     "output_type": "stream",
     "text": [
      "[[1. 0. 0.]\n",
      " [0. 1. 0.]\n",
      " [0. 0. 1.]]\n",
      "\n",
      "[[1. 0. 0. 0. 0.]\n",
      " [0. 1. 0. 0. 0.]\n",
      " [0. 0. 1. 0. 0.]]\n"
     ]
    }
   ],
   "source": [
    "#diagonal with 1\n",
    "ar_dia = np.eye(3)\n",
    "print(ar_dia)\n",
    "\n",
    "print()\n",
    "\n",
    "ar_dia1 = np.eye(3,5)\n",
    "print(ar_dia1)"
   ]
  },
  {
   "cell_type": "code",
   "execution_count": 21,
   "id": "a514ad5a-54aa-4318-8e41-3e3b46610ce4",
   "metadata": {},
   "outputs": [
    {
     "name": "stdout",
     "output_type": "stream",
     "text": [
      "[ 0.  5. 10. 15. 20.]\n"
     ]
    }
   ],
   "source": [
    "#linspace\n",
    "ar_lin = np.linspace(0,20,num=5)\n",
    "print(ar_lin)"
   ]
  },
  {
   "cell_type": "code",
   "execution_count": null,
   "id": "d093eee9-9dad-4f2d-86da-8e4c9ae3c2b6",
   "metadata": {},
   "outputs": [],
   "source": []
  }
 ],
 "metadata": {
  "kernelspec": {
   "display_name": "Python 3 (ipykernel)",
   "language": "python",
   "name": "python3"
  },
  "language_info": {
   "codemirror_mode": {
    "name": "ipython",
    "version": 3
   },
   "file_extension": ".py",
   "mimetype": "text/x-python",
   "name": "python",
   "nbconvert_exporter": "python",
   "pygments_lexer": "ipython3",
   "version": "3.11.9"
  }
 },
 "nbformat": 4,
 "nbformat_minor": 5
}
